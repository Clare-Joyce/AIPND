{
 "cells": [
  {
   "cell_type": "markdown",
   "metadata": {},
   "source": [
    "# Statistics from Stock Data\n",
    "\n",
    "In this lab we will load stock data into a Pandas Dataframe and calculate some statistics on it. We will be working with stock data from Google, Apple, and Amazon. All the stock data was downloaded from yahoo finance in CSV format. In your workspace you should have a file named GOOG.csv containing the Google stock data, a file named AAPL.csv containing the Apple stock data, and a file  named AMZN.csv containing the Amazon stock data. All the files contain 7 columns of data:\n",
    "\n",
    "**Date Open High Low Close Adj_Close Volume**\n",
    "\n",
    "We will start by reading in any of the above CSV files into a DataFrame and see what the data looks like."
   ]
  },
  {
   "cell_type": "code",
   "execution_count": null,
   "metadata": {},
   "outputs": [],
   "source": [
    "# We import libraries here\n",
    "import pandas as pd\n",
    "%matplotlib inline\n",
    "\n",
    "# We import matplotlib into Python\n",
    "import matplotlib.pyplot as plt\n",
    "from pandas.plotting import register_matplotlib_converters\n",
    "register_matplotlib_converters()"
   ]
  },
  {
   "cell_type": "code",
   "execution_count": 1,
   "metadata": {},
   "outputs": [
    {
     "data": {
      "text/html": [
       "<div>\n",
       "<style scoped>\n",
       "    .dataframe tbody tr th:only-of-type {\n",
       "        vertical-align: middle;\n",
       "    }\n",
       "\n",
       "    .dataframe tbody tr th {\n",
       "        vertical-align: top;\n",
       "    }\n",
       "\n",
       "    .dataframe thead th {\n",
       "        text-align: right;\n",
       "    }\n",
       "</style>\n",
       "<table border=\"1\" class=\"dataframe\">\n",
       "  <thead>\n",
       "    <tr style=\"text-align: right;\">\n",
       "      <th></th>\n",
       "      <th>Date</th>\n",
       "      <th>Open</th>\n",
       "      <th>High</th>\n",
       "      <th>Low</th>\n",
       "      <th>Close</th>\n",
       "      <th>Adj Close</th>\n",
       "      <th>Volume</th>\n",
       "    </tr>\n",
       "  </thead>\n",
       "  <tbody>\n",
       "    <tr>\n",
       "      <th>0</th>\n",
       "      <td>2000-01-03</td>\n",
       "      <td>3.745536</td>\n",
       "      <td>4.017857</td>\n",
       "      <td>3.631696</td>\n",
       "      <td>3.997768</td>\n",
       "      <td>3.596616</td>\n",
       "      <td>133949200</td>\n",
       "    </tr>\n",
       "    <tr>\n",
       "      <th>1</th>\n",
       "      <td>2000-01-04</td>\n",
       "      <td>3.866071</td>\n",
       "      <td>3.950893</td>\n",
       "      <td>3.613839</td>\n",
       "      <td>3.660714</td>\n",
       "      <td>3.293384</td>\n",
       "      <td>128094400</td>\n",
       "    </tr>\n",
       "    <tr>\n",
       "      <th>2</th>\n",
       "      <td>2000-01-05</td>\n",
       "      <td>3.705357</td>\n",
       "      <td>3.948661</td>\n",
       "      <td>3.678571</td>\n",
       "      <td>3.714286</td>\n",
       "      <td>3.341579</td>\n",
       "      <td>194580400</td>\n",
       "    </tr>\n",
       "    <tr>\n",
       "      <th>3</th>\n",
       "      <td>2000-01-06</td>\n",
       "      <td>3.790179</td>\n",
       "      <td>3.821429</td>\n",
       "      <td>3.392857</td>\n",
       "      <td>3.392857</td>\n",
       "      <td>3.052405</td>\n",
       "      <td>191993200</td>\n",
       "    </tr>\n",
       "    <tr>\n",
       "      <th>4</th>\n",
       "      <td>2000-01-07</td>\n",
       "      <td>3.446429</td>\n",
       "      <td>3.607143</td>\n",
       "      <td>3.410714</td>\n",
       "      <td>3.553571</td>\n",
       "      <td>3.196992</td>\n",
       "      <td>115183600</td>\n",
       "    </tr>\n",
       "  </tbody>\n",
       "</table>\n",
       "</div>"
      ],
      "text/plain": [
       "         Date      Open      High       Low     Close  Adj Close     Volume\n",
       "0  2000-01-03  3.745536  4.017857  3.631696  3.997768   3.596616  133949200\n",
       "1  2000-01-04  3.866071  3.950893  3.613839  3.660714   3.293384  128094400\n",
       "2  2000-01-05  3.705357  3.948661  3.678571  3.714286   3.341579  194580400\n",
       "3  2000-01-06  3.790179  3.821429  3.392857  3.392857   3.052405  191993200\n",
       "4  2000-01-07  3.446429  3.607143  3.410714  3.553571   3.196992  115183600"
      ]
     },
     "execution_count": 1,
     "metadata": {},
     "output_type": "execute_result"
    }
   ],
   "source": [
    "# We read in a stock data data file into a data frame and see what it looks like\n",
    "\n",
    "aapl = pd.read_csv(\"AAPL.csv\")\n",
    "amzn = pd.read_csv(\"AMZN.csv\")\n",
    "goog = pd.read_csv(\"GOOG.csv\")\n",
    "# We display the first 5 rows of the DataFrame\n",
    "aapl.head()"
   ]
  },
  {
   "cell_type": "markdown",
   "metadata": {},
   "source": [
    "We clearly see that the Dataframe is has automatically labeled the row indices using integers and has labeled the columns of the DataFrame using the names of the columns in the CSV files.\n",
    "\n",
    "# To Do\n",
    "\n",
    "You will now load the stock data from Google, Apple, and Amazon into separte DataFrames. However, for each stock data you will only be interested in loading the `Date` and `Adj Close` columns into the Dataframe. In addtion, you want to use the `Date` column as your row index. Finally, you want the DataFrame to recognize the dates as actual dates (year/month/day) and not as strings. For each stock, you can accomplish all theses things in just one line of code by using the appropiate keywords in the `pd.read_csv()` function. Here are a few hints:\n",
    "\n",
    "* Use the `index_col` keyword to indicate which column you want to use as an index. For example `index_col = ['Open']`\n",
    "\n",
    "* Set the `parse_dates` keyword equal to `True` to convert the Dates into real dates of the form year/month/day\n",
    "\n",
    "* Use the `usecols` keyword to select which columns you want to load into the DataFrame. For example `usecols = ['Open', 'High']`\n",
    "\n",
    "Fill in the code below:"
   ]
  },
  {
   "cell_type": "code",
   "execution_count": 3,
   "metadata": {},
   "outputs": [],
   "source": [
    "# We load the Google stock data into a DataFrame\n",
    "google_stock = pd.read_csv(\"GOOG.csv\", index_col = ['Date'], parse_dates=True, usecols=['Adj Close', 'Date'])\n",
    "\n",
    "# We load the Apple stock data into a DataFrame\n",
    "apple_stock = pd.read_csv(\"AAPL.csv\", index_col = ['Date'], parse_dates=True, usecols=['Adj Close', 'Date'])\n",
    "                       \n",
    "# We load the Amazon stock data into a DataFrame\n",
    "amazon_stock = pd.read_csv(\"AMZN.csv\", index_col = ['Date'], parse_dates=True, usecols=['Adj Close', 'Date'])"
   ]
  },
  {
   "cell_type": "markdown",
   "metadata": {},
   "source": [
    "You can check that you have loaded the data correctly by displaying the head of the DataFrames."
   ]
  },
  {
   "cell_type": "code",
   "execution_count": 4,
   "metadata": {},
   "outputs": [
    {
     "data": {
      "text/html": [
       "<div>\n",
       "<style scoped>\n",
       "    .dataframe tbody tr th:only-of-type {\n",
       "        vertical-align: middle;\n",
       "    }\n",
       "\n",
       "    .dataframe tbody tr th {\n",
       "        vertical-align: top;\n",
       "    }\n",
       "\n",
       "    .dataframe thead th {\n",
       "        text-align: right;\n",
       "    }\n",
       "</style>\n",
       "<table border=\"1\" class=\"dataframe\">\n",
       "  <thead>\n",
       "    <tr style=\"text-align: right;\">\n",
       "      <th></th>\n",
       "      <th>Adj Close</th>\n",
       "    </tr>\n",
       "    <tr>\n",
       "      <th>Date</th>\n",
       "      <th></th>\n",
       "    </tr>\n",
       "  </thead>\n",
       "  <tbody>\n",
       "    <tr>\n",
       "      <th>2000-01-03</th>\n",
       "      <td>89.3750</td>\n",
       "    </tr>\n",
       "    <tr>\n",
       "      <th>2000-01-04</th>\n",
       "      <td>81.9375</td>\n",
       "    </tr>\n",
       "    <tr>\n",
       "      <th>2000-01-05</th>\n",
       "      <td>69.7500</td>\n",
       "    </tr>\n",
       "    <tr>\n",
       "      <th>2000-01-06</th>\n",
       "      <td>65.5625</td>\n",
       "    </tr>\n",
       "    <tr>\n",
       "      <th>2000-01-07</th>\n",
       "      <td>69.5625</td>\n",
       "    </tr>\n",
       "  </tbody>\n",
       "</table>\n",
       "</div>"
      ],
      "text/plain": [
       "            Adj Close\n",
       "Date                 \n",
       "2000-01-03    89.3750\n",
       "2000-01-04    81.9375\n",
       "2000-01-05    69.7500\n",
       "2000-01-06    65.5625\n",
       "2000-01-07    69.5625"
      ]
     },
     "execution_count": 4,
     "metadata": {},
     "output_type": "execute_result"
    }
   ],
   "source": [
    "# We display the google_stock DataFrame\n",
    "amazon_stock.head()"
   ]
  },
  {
   "cell_type": "markdown",
   "metadata": {},
   "source": [
    "You will now join the three DataFrames above to create a single new DataFrame that contains all the `Adj Close` for all the stocks. Let's start by creating an empty DataFrame that has as row indices calendar days between `2000-01-01`  and `2016-12-31`. We will use the `pd.date_range()` function to create the calendar dates first and then we will create a DataFrame that uses those dates as row indices:"
   ]
  },
  {
   "cell_type": "code",
   "execution_count": 5,
   "metadata": {},
   "outputs": [],
   "source": [
    "# We create calendar dates between '2000-01-01' and  '2016-12-31'\n",
    "dates = pd.date_range('2000-01-01', '2016-12-31')\n",
    "\n",
    "# We create and empty DataFrame that uses the above dates as indices\n",
    "all_stocks = pd.DataFrame(index = dates)"
   ]
  },
  {
   "cell_type": "markdown",
   "metadata": {},
   "source": [
    "# To Do\n",
    "\n",
    "You will now join the the individual DataFrames, `google_stock`, `apple_stock`, and `amazon_stock`, to the `all_stocks` DataFrame. However, before you do this, it is necessary that you change the name of the columns in each of the three dataframes. This is because the column labels in the `all_stocks` dataframe must be unique. Since all the columns in the individual dataframes have the same name, `Adj Close`, we must change them to the stock name before joining them. In the space below change the column label `Adj Close` of each individual dataframe to the name of the corresponding stock. You can do this by using the `pd.DataFrame.rename()` function. "
   ]
  },
  {
   "cell_type": "code",
   "execution_count": 6,
   "metadata": {},
   "outputs": [],
   "source": [
    "# Change the Adj Close column label to Google\n",
    "google_stock.columns = ['Google']\n",
    "\n",
    "# Change the Adj Close column label to Apple\n",
    "apple_stock.columns = ['Apple']\n",
    "\n",
    "# Change the Adj Close column label to Amazon\n",
    "amazon_stock.columns =  ['Amazon']"
   ]
  },
  {
   "cell_type": "markdown",
   "metadata": {},
   "source": [
    "You can check that the column labels have been changed correctly by displaying the datadrames"
   ]
  },
  {
   "cell_type": "code",
   "execution_count": 7,
   "metadata": {},
   "outputs": [
    {
     "data": {
      "text/html": [
       "<div>\n",
       "<style scoped>\n",
       "    .dataframe tbody tr th:only-of-type {\n",
       "        vertical-align: middle;\n",
       "    }\n",
       "\n",
       "    .dataframe tbody tr th {\n",
       "        vertical-align: top;\n",
       "    }\n",
       "\n",
       "    .dataframe thead th {\n",
       "        text-align: right;\n",
       "    }\n",
       "</style>\n",
       "<table border=\"1\" class=\"dataframe\">\n",
       "  <thead>\n",
       "    <tr style=\"text-align: right;\">\n",
       "      <th></th>\n",
       "      <th>Google</th>\n",
       "    </tr>\n",
       "    <tr>\n",
       "      <th>Date</th>\n",
       "      <th></th>\n",
       "    </tr>\n",
       "  </thead>\n",
       "  <tbody>\n",
       "    <tr>\n",
       "      <th>2004-08-19</th>\n",
       "      <td>49.845802</td>\n",
       "    </tr>\n",
       "    <tr>\n",
       "      <th>2004-08-20</th>\n",
       "      <td>53.805050</td>\n",
       "    </tr>\n",
       "    <tr>\n",
       "      <th>2004-08-23</th>\n",
       "      <td>54.346527</td>\n",
       "    </tr>\n",
       "    <tr>\n",
       "      <th>2004-08-24</th>\n",
       "      <td>52.096165</td>\n",
       "    </tr>\n",
       "    <tr>\n",
       "      <th>2004-08-25</th>\n",
       "      <td>52.657513</td>\n",
       "    </tr>\n",
       "  </tbody>\n",
       "</table>\n",
       "</div>"
      ],
      "text/plain": [
       "               Google\n",
       "Date                 \n",
       "2004-08-19  49.845802\n",
       "2004-08-20  53.805050\n",
       "2004-08-23  54.346527\n",
       "2004-08-24  52.096165\n",
       "2004-08-25  52.657513"
      ]
     },
     "execution_count": 7,
     "metadata": {},
     "output_type": "execute_result"
    }
   ],
   "source": [
    "# We display the google_stock DataFrame\n",
    "google_stock.head()"
   ]
  },
  {
   "cell_type": "code",
   "execution_count": 8,
   "metadata": {},
   "outputs": [
    {
     "data": {
      "text/html": [
       "<div>\n",
       "<style scoped>\n",
       "    .dataframe tbody tr th:only-of-type {\n",
       "        vertical-align: middle;\n",
       "    }\n",
       "\n",
       "    .dataframe tbody tr th {\n",
       "        vertical-align: top;\n",
       "    }\n",
       "\n",
       "    .dataframe thead th {\n",
       "        text-align: right;\n",
       "    }\n",
       "</style>\n",
       "<table border=\"1\" class=\"dataframe\">\n",
       "  <thead>\n",
       "    <tr style=\"text-align: right;\">\n",
       "      <th></th>\n",
       "      <th>Apple</th>\n",
       "    </tr>\n",
       "    <tr>\n",
       "      <th>Date</th>\n",
       "      <th></th>\n",
       "    </tr>\n",
       "  </thead>\n",
       "  <tbody>\n",
       "    <tr>\n",
       "      <th>2000-01-03</th>\n",
       "      <td>3.596616</td>\n",
       "    </tr>\n",
       "    <tr>\n",
       "      <th>2000-01-04</th>\n",
       "      <td>3.293384</td>\n",
       "    </tr>\n",
       "    <tr>\n",
       "      <th>2000-01-05</th>\n",
       "      <td>3.341579</td>\n",
       "    </tr>\n",
       "    <tr>\n",
       "      <th>2000-01-06</th>\n",
       "      <td>3.052405</td>\n",
       "    </tr>\n",
       "    <tr>\n",
       "      <th>2000-01-07</th>\n",
       "      <td>3.196992</td>\n",
       "    </tr>\n",
       "  </tbody>\n",
       "</table>\n",
       "</div>"
      ],
      "text/plain": [
       "               Apple\n",
       "Date                \n",
       "2000-01-03  3.596616\n",
       "2000-01-04  3.293384\n",
       "2000-01-05  3.341579\n",
       "2000-01-06  3.052405\n",
       "2000-01-07  3.196992"
      ]
     },
     "execution_count": 8,
     "metadata": {},
     "output_type": "execute_result"
    }
   ],
   "source": [
    "# We display the apple_stock DataFrame\n",
    "apple_stock.head()"
   ]
  },
  {
   "cell_type": "code",
   "execution_count": 9,
   "metadata": {},
   "outputs": [
    {
     "data": {
      "text/html": [
       "<div>\n",
       "<style scoped>\n",
       "    .dataframe tbody tr th:only-of-type {\n",
       "        vertical-align: middle;\n",
       "    }\n",
       "\n",
       "    .dataframe tbody tr th {\n",
       "        vertical-align: top;\n",
       "    }\n",
       "\n",
       "    .dataframe thead th {\n",
       "        text-align: right;\n",
       "    }\n",
       "</style>\n",
       "<table border=\"1\" class=\"dataframe\">\n",
       "  <thead>\n",
       "    <tr style=\"text-align: right;\">\n",
       "      <th></th>\n",
       "      <th>Amazon</th>\n",
       "    </tr>\n",
       "    <tr>\n",
       "      <th>Date</th>\n",
       "      <th></th>\n",
       "    </tr>\n",
       "  </thead>\n",
       "  <tbody>\n",
       "    <tr>\n",
       "      <th>2000-01-03</th>\n",
       "      <td>89.3750</td>\n",
       "    </tr>\n",
       "    <tr>\n",
       "      <th>2000-01-04</th>\n",
       "      <td>81.9375</td>\n",
       "    </tr>\n",
       "    <tr>\n",
       "      <th>2000-01-05</th>\n",
       "      <td>69.7500</td>\n",
       "    </tr>\n",
       "    <tr>\n",
       "      <th>2000-01-06</th>\n",
       "      <td>65.5625</td>\n",
       "    </tr>\n",
       "    <tr>\n",
       "      <th>2000-01-07</th>\n",
       "      <td>69.5625</td>\n",
       "    </tr>\n",
       "  </tbody>\n",
       "</table>\n",
       "</div>"
      ],
      "text/plain": [
       "             Amazon\n",
       "Date               \n",
       "2000-01-03  89.3750\n",
       "2000-01-04  81.9375\n",
       "2000-01-05  69.7500\n",
       "2000-01-06  65.5625\n",
       "2000-01-07  69.5625"
      ]
     },
     "execution_count": 9,
     "metadata": {},
     "output_type": "execute_result"
    }
   ],
   "source": [
    "# We display the amazon_stock DataFrame\n",
    "amazon_stock.head()"
   ]
  },
  {
   "cell_type": "markdown",
   "metadata": {},
   "source": [
    "Now that we have unique column labels, we can join the individual DataFrames to the `all_stocks` DataFrame. For this we will use the `dataframe.join()` function. The function `dataframe1.join(dataframe2)` joins `dataframe1` with `dataframe2`. We will join each dataframe one by one to the `all_stocks` dataframe. Fill in the code below to join the dataframes, the first join has been made for you:"
   ]
  },
  {
   "cell_type": "code",
   "execution_count": 10,
   "metadata": {},
   "outputs": [],
   "source": [
    "# We join the Google stock to all_stocks\n",
    "all_stocks = all_stocks.join(google_stock)\n",
    "\n",
    "# We join the Apple stock to all_stocks\n",
    "all_stocks = all_stocks.join(apple_stock)\n",
    "\n",
    "# We join the Amazon stock to all_stocks\n",
    "all_stocks = all_stocks.join(amazon_stock)"
   ]
  },
  {
   "cell_type": "markdown",
   "metadata": {},
   "source": [
    "You can check that the dataframes have been joined correctly by displaying the `all_stocks`  dataframe"
   ]
  },
  {
   "cell_type": "code",
   "execution_count": 11,
   "metadata": {},
   "outputs": [
    {
     "data": {
      "text/html": [
       "<div>\n",
       "<style scoped>\n",
       "    .dataframe tbody tr th:only-of-type {\n",
       "        vertical-align: middle;\n",
       "    }\n",
       "\n",
       "    .dataframe tbody tr th {\n",
       "        vertical-align: top;\n",
       "    }\n",
       "\n",
       "    .dataframe thead th {\n",
       "        text-align: right;\n",
       "    }\n",
       "</style>\n",
       "<table border=\"1\" class=\"dataframe\">\n",
       "  <thead>\n",
       "    <tr style=\"text-align: right;\">\n",
       "      <th></th>\n",
       "      <th>Google</th>\n",
       "      <th>Apple</th>\n",
       "      <th>Amazon</th>\n",
       "    </tr>\n",
       "  </thead>\n",
       "  <tbody>\n",
       "    <tr>\n",
       "      <th>2000-01-01</th>\n",
       "      <td>NaN</td>\n",
       "      <td>NaN</td>\n",
       "      <td>NaN</td>\n",
       "    </tr>\n",
       "    <tr>\n",
       "      <th>2000-01-02</th>\n",
       "      <td>NaN</td>\n",
       "      <td>NaN</td>\n",
       "      <td>NaN</td>\n",
       "    </tr>\n",
       "    <tr>\n",
       "      <th>2000-01-03</th>\n",
       "      <td>NaN</td>\n",
       "      <td>3.596616</td>\n",
       "      <td>89.3750</td>\n",
       "    </tr>\n",
       "    <tr>\n",
       "      <th>2000-01-04</th>\n",
       "      <td>NaN</td>\n",
       "      <td>3.293384</td>\n",
       "      <td>81.9375</td>\n",
       "    </tr>\n",
       "    <tr>\n",
       "      <th>2000-01-05</th>\n",
       "      <td>NaN</td>\n",
       "      <td>3.341579</td>\n",
       "      <td>69.7500</td>\n",
       "    </tr>\n",
       "  </tbody>\n",
       "</table>\n",
       "</div>"
      ],
      "text/plain": [
       "            Google     Apple   Amazon\n",
       "2000-01-01     NaN       NaN      NaN\n",
       "2000-01-02     NaN       NaN      NaN\n",
       "2000-01-03     NaN  3.596616  89.3750\n",
       "2000-01-04     NaN  3.293384  81.9375\n",
       "2000-01-05     NaN  3.341579  69.7500"
      ]
     },
     "execution_count": 11,
     "metadata": {},
     "output_type": "execute_result"
    }
   ],
   "source": [
    "# We display the all_stocks DataFrame\n",
    "all_stocks.head()"
   ]
  },
  {
   "cell_type": "code",
   "execution_count": 40,
   "metadata": {},
   "outputs": [
    {
     "data": {
      "image/png": "[encoded data removed]",
      "text/plain": [
       "<Figure size 1080x720 with 1 Axes>"
      ]
     },
     "metadata": {
      "needs_background": "light"
     },
     "output_type": "display_data"
    }
   ],
   "source": [
    "plt.figure(figsize=(15, 10))\n",
    "plt.plot(all_stocks['Google'], label='Google')\n",
    "plt.plot(all_stocks['Apple'], label='Apple' )\n",
    "plt.plot(all_stocks['Amazon'], label='Amazon')\n",
    "plt.title(\"Comparing Google, Apple and Amazon Stock\")\n",
    "plt.xlabel(\"Time\")\n",
    "plt.ylabel(\"Stock values\")\n",
    "plt.legend()\n",
    "plt.show()"
   ]
  },
  {
   "cell_type": "markdown",
   "metadata": {},
   "source": [
    "# To Do\n",
    "\n",
    "Before we proceed to get some statistics on the stock data, let's first check that we don't have any *NaN* values. In the space below check if there are any *NaN* values in the `all_stocks`  dataframe. If there are any, remove any rows that have *NaN* values:"
   ]
  },
  {
   "cell_type": "code",
   "execution_count": 15,
   "metadata": {},
   "outputs": [
    {
     "data": {
      "text/plain": [
       "Google    True\n",
       "Apple     True\n",
       "Amazon    True\n",
       "dtype: bool"
      ]
     },
     "execution_count": 15,
     "metadata": {},
     "output_type": "execute_result"
    }
   ],
   "source": [
    "# Check if there are any NaN values in the all_stocks dataframe\n",
    "all_stocks.isnull().any()"
   ]
  },
  {
   "cell_type": "code",
   "execution_count": 17,
   "metadata": {},
   "outputs": [
    {
     "data": {
      "text/html": [
       "<div>\n",
       "<style scoped>\n",
       "    .dataframe tbody tr th:only-of-type {\n",
       "        vertical-align: middle;\n",
       "    }\n",
       "\n",
       "    .dataframe tbody tr th {\n",
       "        vertical-align: top;\n",
       "    }\n",
       "\n",
       "    .dataframe thead th {\n",
       "        text-align: right;\n",
       "    }\n",
       "</style>\n",
       "<table border=\"1\" class=\"dataframe\">\n",
       "  <thead>\n",
       "    <tr style=\"text-align: right;\">\n",
       "      <th></th>\n",
       "      <th>Google</th>\n",
       "      <th>Apple</th>\n",
       "      <th>Amazon</th>\n",
       "    </tr>\n",
       "  </thead>\n",
       "  <tbody>\n",
       "    <tr>\n",
       "      <th>2004-08-19</th>\n",
       "      <td>49.845802</td>\n",
       "      <td>1.973460</td>\n",
       "      <td>38.630001</td>\n",
       "    </tr>\n",
       "    <tr>\n",
       "      <th>2004-08-20</th>\n",
       "      <td>53.805050</td>\n",
       "      <td>1.979244</td>\n",
       "      <td>39.509998</td>\n",
       "    </tr>\n",
       "    <tr>\n",
       "      <th>2004-08-23</th>\n",
       "      <td>54.346527</td>\n",
       "      <td>1.997236</td>\n",
       "      <td>39.450001</td>\n",
       "    </tr>\n",
       "    <tr>\n",
       "      <th>2004-08-24</th>\n",
       "      <td>52.096165</td>\n",
       "      <td>2.053144</td>\n",
       "      <td>39.049999</td>\n",
       "    </tr>\n",
       "    <tr>\n",
       "      <th>2004-08-25</th>\n",
       "      <td>52.657513</td>\n",
       "      <td>2.123831</td>\n",
       "      <td>40.299999</td>\n",
       "    </tr>\n",
       "  </tbody>\n",
       "</table>\n",
       "</div>"
      ],
      "text/plain": [
       "               Google     Apple     Amazon\n",
       "2004-08-19  49.845802  1.973460  38.630001\n",
       "2004-08-20  53.805050  1.979244  39.509998\n",
       "2004-08-23  54.346527  1.997236  39.450001\n",
       "2004-08-24  52.096165  2.053144  39.049999\n",
       "2004-08-25  52.657513  2.123831  40.299999"
      ]
     },
     "execution_count": 17,
     "metadata": {},
     "output_type": "execute_result"
    }
   ],
   "source": [
    "# Remove any rows that contain NaN values\n",
    "all_stocks = all_stocks.dropna()\n"
   ]
  },
  {
   "cell_type": "markdown",
   "metadata": {},
   "source": [
    "You can check that the *NaN* values have been eliminated by displaying the `all_stocks`  dataframe"
   ]
  },
  {
   "cell_type": "code",
   "execution_count": 18,
   "metadata": {},
   "outputs": [
    {
     "data": {
      "text/plain": [
       "Google    False\n",
       "Apple     False\n",
       "Amazon    False\n",
       "dtype: bool"
      ]
     },
     "execution_count": 18,
     "metadata": {},
     "output_type": "execute_result"
    }
   ],
   "source": [
    "# Check if there are any NaN values in the all_stocks dataframe\n",
    "all_stocks.isnull().any()"
   ]
  },
  {
   "cell_type": "markdown",
   "metadata": {},
   "source": [
    "Display the `all_stocks`  dataframe and verify that there are no *NaN* values "
   ]
  },
  {
   "cell_type": "code",
   "execution_count": 19,
   "metadata": {},
   "outputs": [
    {
     "data": {
      "text/html": [
       "<div>\n",
       "<style scoped>\n",
       "    .dataframe tbody tr th:only-of-type {\n",
       "        vertical-align: middle;\n",
       "    }\n",
       "\n",
       "    .dataframe tbody tr th {\n",
       "        vertical-align: top;\n",
       "    }\n",
       "\n",
       "    .dataframe thead th {\n",
       "        text-align: right;\n",
       "    }\n",
       "</style>\n",
       "<table border=\"1\" class=\"dataframe\">\n",
       "  <thead>\n",
       "    <tr style=\"text-align: right;\">\n",
       "      <th></th>\n",
       "      <th>Google</th>\n",
       "      <th>Apple</th>\n",
       "      <th>Amazon</th>\n",
       "    </tr>\n",
       "  </thead>\n",
       "  <tbody>\n",
       "    <tr>\n",
       "      <th>2004-08-19</th>\n",
       "      <td>49.845802</td>\n",
       "      <td>1.973460</td>\n",
       "      <td>38.630001</td>\n",
       "    </tr>\n",
       "    <tr>\n",
       "      <th>2004-08-20</th>\n",
       "      <td>53.805050</td>\n",
       "      <td>1.979244</td>\n",
       "      <td>39.509998</td>\n",
       "    </tr>\n",
       "    <tr>\n",
       "      <th>2004-08-23</th>\n",
       "      <td>54.346527</td>\n",
       "      <td>1.997236</td>\n",
       "      <td>39.450001</td>\n",
       "    </tr>\n",
       "    <tr>\n",
       "      <th>2004-08-24</th>\n",
       "      <td>52.096165</td>\n",
       "      <td>2.053144</td>\n",
       "      <td>39.049999</td>\n",
       "    </tr>\n",
       "    <tr>\n",
       "      <th>2004-08-25</th>\n",
       "      <td>52.657513</td>\n",
       "      <td>2.123831</td>\n",
       "      <td>40.299999</td>\n",
       "    </tr>\n",
       "  </tbody>\n",
       "</table>\n",
       "</div>"
      ],
      "text/plain": [
       "               Google     Apple     Amazon\n",
       "2004-08-19  49.845802  1.973460  38.630001\n",
       "2004-08-20  53.805050  1.979244  39.509998\n",
       "2004-08-23  54.346527  1.997236  39.450001\n",
       "2004-08-24  52.096165  2.053144  39.049999\n",
       "2004-08-25  52.657513  2.123831  40.299999"
      ]
     },
     "execution_count": 19,
     "metadata": {},
     "output_type": "execute_result"
    }
   ],
   "source": [
    "# We display the all_stocks DataFrame\n",
    "all_stocks.head()"
   ]
  },
  {
   "cell_type": "markdown",
   "metadata": {},
   "source": [
    "Now that you have eliminated any *NaN* values we can now calculate some basic statistics on the stock prices. Fill in the code below"
   ]
  },
  {
   "cell_type": "code",
   "execution_count": 24,
   "metadata": {},
   "outputs": [
    {
     "name": "stdout",
     "output_type": "stream",
     "text": [
      "Google stock average: 347.4202289595508\n",
      "Apple stock average: 47.73601835024078\n",
      "Amazon stock average: 216.59817680481586\n",
      "\n",
      "Google stock median: 286.397247\n",
      "Apple stock median: 39.461483\n",
      "Amazon stock median: 161.820007\n",
      "\n",
      "Google stock standard deviation: 187.67159618519074\n",
      "Apple stock standard deviation: 37.42155482402387\n",
      "Amazon stock standard deviation: 199.12979235695607\n",
      "\n",
      "Google and Apple stock Correlation: 0.9002417493063721\n",
      "Apple and Amazon stock Correlation: 0.8863213505974565\n",
      "Amazon and Google stock Correlation: 0.9524442598838939\n"
     ]
    }
   ],
   "source": [
    "# Print the average stock price for each stock\n",
    "print(f\"Google stock average: {all_stocks['Google'].mean()}\")\n",
    "print(f\"Apple stock average: {all_stocks['Apple'].mean()}\")\n",
    "print(f\"Amazon stock average: {all_stocks['Amazon'].mean()}\")\n",
    "print()\n",
    "      \n",
    "# Print the median stock price for each stock\n",
    "print(f\"Google stock median: {all_stocks['Google'].median()}\")\n",
    "print(f\"Apple stock median: {all_stocks['Apple'].median()}\")\n",
    "print(f\"Amazon stock median: {all_stocks['Amazon'].median()}\")\n",
    "print()\n",
    "      \n",
    "# Print the standard deviation of the stock price for each stock  \n",
    "print(f\"Google stock standard deviation: {all_stocks['Google'].std()}\")\n",
    "print(f\"Apple stock standard deviation: {all_stocks['Apple'].std()}\")\n",
    "print(f\"Amazon stock standard deviation: {all_stocks['Amazon'].std()}\")\n",
    "print()\n",
    "      \n",
    "# Print the correlation between stocks\n",
    "print(f\"Google and Apple stock Correlation: {all_stocks['Google'].corr(all_stocks['Apple'])}\")\n",
    "print(f\"Apple and Amazon stock Correlation: {all_stocks['Apple'].corr(all_stocks['Amazon'])}\")\n",
    "print(f\"Amazon and Google stock Correlation: {all_stocks['Amazon'].corr(all_stocks['Google'])}\")"
   ]
  },
  {
   "cell_type": "markdown",
   "metadata": {},
   "source": [
    "We will now look at how we can compute some rolling statistics, also known as moving statistics. We can calculate for example the rolling mean (moving average) of the Google stock price by using the Pandas `dataframe.rolling().mean()` method. The `dataframe.rolling(N).mean()` calculates the rolling mean over an `N`-day window. In other words, we can take a look at the average stock price every `N`  days using the above method. Fill in the code below to calculate the average stock price every 150 days for Google stock"
   ]
  },
  {
   "cell_type": "code",
   "execution_count": 31,
   "metadata": {},
   "outputs": [
    {
     "name": "stdout",
     "output_type": "stream",
     "text": [
      "Google rolling mean with 150-day window:\n",
      "2004-08-19   NaN\n",
      "2004-08-20   NaN\n",
      "2004-08-23   NaN\n",
      "2004-08-24   NaN\n",
      "2004-08-25   NaN\n",
      "Name: Google, dtype: float64\n",
      "Apple rolling mean with 150-day window:\n",
      "2004-08-19   NaN\n",
      "2004-08-20   NaN\n",
      "2004-08-23   NaN\n",
      "2004-08-24   NaN\n",
      "2004-08-25   NaN\n",
      "Name: Apple, dtype: float64\n",
      "Amazon rolling mean with 150-day window:\n",
      "2004-08-19   NaN\n",
      "2004-08-20   NaN\n",
      "2004-08-23   NaN\n",
      "2004-08-24   NaN\n",
      "2004-08-25   NaN\n",
      "Name: Amazon, dtype: float64\n"
     ]
    }
   ],
   "source": [
    "# We compute the rolling mean using a 150-Day window for Google stock\n",
    "rollingMean = all_stocks['Google'].rolling(150).mean()\n",
    "print(f\"Google rolling mean with 150-day window:\\n{all_stocks['Google'].rolling(150).mean().head()}\")\n",
    "print(f\"Apple rolling mean with 150-day window:\\n{all_stocks['Apple'].rolling(150).mean().head()}\")\n",
    "print(f\"Amazon rolling mean with 150-day window:\\n{all_stocks['Amazon'].rolling(150).mean().head()}\")"
   ]
  },
  {
   "cell_type": "markdown",
   "metadata": {},
   "source": [
    "We can also visualize the rolling mean by plotting the data in our dataframe. In the following lessons you will learn how to use **Matplotlib** to visualize data. For now I will just import matplotlib and plot the Google stock data on top of the rolling mean. You can play around by changing the rolling mean window and see how the plot changes. "
   ]
  },
  {
   "cell_type": "code",
   "execution_count": 36,
   "metadata": {},
   "outputs": [
    {
     "data": {
      "image/png": "[encoded data removed]",
      "text/plain": [
       "<Figure size 720x576 with 1 Axes>"
      ]
     },
     "metadata": {
      "needs_background": "light"
     },
     "output_type": "display_data"
    }
   ],
   "source": [
    "plt.figure(figsize=(10, 8))\n",
    "# We plot the Google stock data\n",
    "plt.plot(all_stocks['Google'], color='green')\n",
    "# We plot the rolling mean ontop of our Google stock data\n",
    "plt.plot(rollingMean, color='darkorange')\n",
    "plt.legend(['Google Stock Price', 'Rolling Mean'])\n",
    "plt.title(\"Time Series plot for Google Stock and its rolling mean(150-day window)\")\n",
    "plt.ylabel(\"Stack values\")\n",
    "plt.xlabel(\"Time\")\n",
    "plt.show()"
   ]
  },
  {
   "cell_type": "code",
   "execution_count": null,
   "metadata": {},
   "outputs": [],
   "source": []
  }
 ],
 "metadata": {
  "kernelspec": {
   "display_name": "Python 3",
   "language": "python",
   "name": "python3"
  },
  "language_info": {
   "codemirror_mode": {
    "name": "ipython",
    "version": 3
   },
   "file_extension": ".py",
   "mimetype": "text/x-python",
   "name": "python",
   "nbconvert_exporter": "python",
   "pygments_lexer": "ipython3",
   "version": "3.7.1"
  }
 },
 "nbformat": 4,
 "nbformat_minor": 2
}
