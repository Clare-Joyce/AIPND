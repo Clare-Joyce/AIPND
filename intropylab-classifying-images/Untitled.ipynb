{
 "cells": [
  {
   "cell_type": "code",
   "execution_count": 13,
   "metadata": {},
   "outputs": [],
   "source": [
    "import os"
   ]
  },
  {
   "cell_type": "code",
   "execution_count": 81,
   "metadata": {},
   "outputs": [
    {
     "name": "stdout",
     "output_type": "stream",
     "text": [
      "40\n"
     ]
    }
   ],
   "source": [
    "x  =  os.listdir('pet_images')\n",
    "print(len(x))\n",
    "x_d = {}"
   ]
  },
  {
   "cell_type": "code",
   "execution_count": 82,
   "metadata": {},
   "outputs": [
    {
     "name": "stdout",
     "output_type": "stream",
     "text": [
      "3\n"
     ]
    }
   ],
   "source": [
    "for i in range(0, 3):\n",
    "    if x[i][0] != \".\":\n",
    "        y = x[i].split('_')\n",
    "               \n",
    "        pet_l = \"\"\n",
    "\n",
    "        for word in y:\n",
    "            if word.isalpha():\n",
    "                pet_l += word.lower() + \" \"\n",
    "\n",
    "        if x[i] not in x_d:\n",
    "              x_d[x[i]] = pet_l\n",
    "              \n",
    "        else:\n",
    "               print(\"This is in dictionary already\", x[i])\n",
    "print(len(x_d))"
   ]
  },
  {
   "cell_type": "code",
   "execution_count": 88,
   "metadata": {},
   "outputs": [
    {
     "name": "stdout",
     "output_type": "stream",
     "text": [
      "['cl', 'fg', '001', 'jpg']\n",
      "cl fg\n"
     ]
    }
   ],
   "source": [
    "import re\n",
    "u = 'cl_fg_001.jpg'\n",
    "n = 'jpg'\n",
    "v =  re.split(\"\\W+|_\", u)\n",
    "print(v)\n",
    "# if n in v:\n",
    "#     v.remove(n)\n",
    "# print(v)\n",
    "v = [i for i in v if i.isalpha() and i != n]\n",
    "\n",
    "pet = \" \".join(v)\n",
    "\n",
    "print(pet)"
   ]
  },
  {
   "cell_type": "code",
   "execution_count": 46,
   "metadata": {},
   "outputs": [
    {
     "data": {
      "text/plain": [
       "3"
      ]
     },
     "execution_count": 46,
     "metadata": {},
     "output_type": "execute_result"
    }
   ],
   "source": [
    "b = [1, 2]\n",
    "c = sum(b)\n",
    "c"
   ]
  },
  {
   "cell_type": "code",
   "execution_count": 91,
   "metadata": {},
   "outputs": [
    {
     "name": "stdout",
     "output_type": "stream",
     "text": [
      "40\n"
     ]
    }
   ],
   "source": [
    "def get_pet_labels()\n",
    "    # an empty dictionary to hold file names and pet label\n",
    "    pet_labels_dic = {}\n",
    "    #lit all files names in the folder containing the images.\n",
    "    pet_file_names = os.listdir('pet_images')\n",
    "\n",
    "    #define the extension to be removed\n",
    "    ext = 'jpg'\n",
    "\n",
    "    for i in range(0, len(pet_file_names)):\n",
    "        #check for the initial to insure it is not a .\n",
    "        if pet_file_names[i][0] != \".\":\n",
    "            pet_label_list = re.split(\"\\W+|_\", pet_file_names[i])\n",
    "            if ext in pet_label_list:\n",
    "                pet_label_list.remove(ext)\n",
    "            pet_label_list = [i for i in pet_label_list if i.isalpha() and i != ext]\n",
    "            pet_label = \" \".join(pet_label_list) \n",
    "\n",
    "            if pet_file_names[i] not in pet_labels_dic:\n",
    "                pet_labels_dic[pet_file_names[i]] = pet_label \n",
    "            else:\n",
    "                   print(\"This is in dictionary already\", x[i])\n",
    "    return pet_labels_dic\n"
   ]
  },
  {
   "cell_type": "code",
   "execution_count": 93,
   "metadata": {},
   "outputs": [
    {
     "ename": "KeyError",
     "evalue": "0",
     "output_type": "error",
     "traceback": [
      "\u001b[0;31m---------------------------------------------------------------------------\u001b[0m",
      "\u001b[0;31mKeyError\u001b[0m                                  Traceback (most recent call last)",
      "\u001b[0;32m<ipython-input-93-271aee2b4e67>\u001b[0m in \u001b[0;36m<module>\u001b[0;34m()\u001b[0m\n\u001b[1;32m      7\u001b[0m     \u001b[0;31m# classifier labels\u001b[0m\u001b[0;34m\u001b[0m\u001b[0;34m\u001b[0m\u001b[0m\n\u001b[1;32m      8\u001b[0m     \u001b[0;32mif\u001b[0m \u001b[0mpet_file_names\u001b[0m\u001b[0;34m[\u001b[0m\u001b[0midx\u001b[0m\u001b[0;34m]\u001b[0m \u001b[0;32mnot\u001b[0m \u001b[0;32min\u001b[0m \u001b[0mresults_dic\u001b[0m\u001b[0;34m:\u001b[0m\u001b[0;34m\u001b[0m\u001b[0m\n\u001b[0;32m----> 9\u001b[0;31m         \u001b[0mresults_dic\u001b[0m\u001b[0;34m[\u001b[0m\u001b[0mpet_file_names\u001b[0m\u001b[0;34m[\u001b[0m\u001b[0midx\u001b[0m\u001b[0;34m]\u001b[0m\u001b[0;34m]\u001b[0m \u001b[0;34m=\u001b[0m \u001b[0;34m[\u001b[0m \u001b[0mpet_labels_dic\u001b[0m\u001b[0;34m[\u001b[0m\u001b[0midx\u001b[0m\u001b[0;34m]\u001b[0m\u001b[0;34m,\u001b[0m \u001b[0mclassifier_labels\u001b[0m\u001b[0;34m[\u001b[0m\u001b[0midx\u001b[0m\u001b[0;34m]\u001b[0m \u001b[0;34m]\u001b[0m\u001b[0;34m\u001b[0m\u001b[0m\n\u001b[0m\u001b[1;32m     10\u001b[0m \u001b[0;34m\u001b[0m\u001b[0m\n\u001b[1;32m     11\u001b[0m     \u001b[0;31m# Determine if pet_labels matches classifier_labels using find() string\u001b[0m\u001b[0;34m\u001b[0m\u001b[0;34m\u001b[0m\u001b[0m\n",
      "\u001b[0;31mKeyError\u001b[0m: 0"
     ]
    }
   ],
   "source": [
    "results_dic = dict()\n",
    "pet_file_names = os.listdir('pet_images')\n",
    "\n",
    "# Populates empty dictionary with both labels &indicates if they match (idx 2)\n",
    "for idx in range (0, len(pet_file_names)):\n",
    "    # If first time key is assigned initialize the list with pet & \n",
    "    # classifier labels\n",
    "    if pet_file_names[idx] not in results_dic:\n",
    "        results_dic[pet_file_names[idx]] = [ pet_labels_dic[idx], classifier_labels[idx] ]\n",
    "\n",
    "    # Determine if pet_labels matches classifier_labels using find() string \n",
    "    # function - so if pet label is found within classifier label it's a match\n",
    "    found = classifier_labels[idx].find(pet_labels_dic[idx])\n",
    "\n",
    "    # Key already exists because labels were added, append value to end of\n",
    "    # list for idx 2 \n",
    "    # if pet image label was FOUND then there is a match \n",
    "    if found >= 0:\n",
    "        results_dic[pet_file_names[idx]] += [ 1 ]\n",
    "\n",
    "    # if pet image label was NOT found then there is no match\n",
    "    else:\n",
    "        results_dic[pet_file_names[idx]] += [ 0 ]\n",
    "\n",
    "# Populates dictionary with whether or not labels indicate a dog image (idx 3&4)\n",
    "for idx in range (0, len(pet_file_names), 1):\n",
    "    # Key already exists, append value to end of list for idx 3 & 4\n",
    "    # can use append() function instead of += to append to end of a list\n",
    "    results_dic[pet_file_names[idx]].append(pet_label_is_dog[idx])\n",
    "    results_dic[pet_file_names[idx]].append(classifier_label_is_dog[idx])\n"
   ]
  },
  {
   "cell_type": "code",
   "execution_count": 97,
   "metadata": {},
   "outputs": [
    {
     "name": "stdout",
     "output_type": "stream",
     "text": [
      "[1, 0, 1]\n",
      "False\n"
     ]
    }
   ],
   "source": [
    "x = ['a', 'b', 1, 0, 1]\n",
    "print(x[2:])\n",
    "if len(set(x[2:])) == 1:\n",
    "    print(True)\n",
    "else:\n",
    "    print(False)"
   ]
  },
  {
   "cell_type": "code",
   "execution_count": null,
   "metadata": {},
   "outputs": [],
   "source": []
  }
 ],
 "metadata": {
  "kernelspec": {
   "display_name": "Python 3",
   "language": "python",
   "name": "python3"
  },
  "language_info": {
   "codemirror_mode": {
    "name": "ipython",
    "version": 3
   },
   "file_extension": ".py",
   "mimetype": "text/x-python",
   "name": "python",
   "nbconvert_exporter": "python",
   "pygments_lexer": "ipython3",
   "version": "3.6.5"
  }
 },
 "nbformat": 4,
 "nbformat_minor": 2
}
